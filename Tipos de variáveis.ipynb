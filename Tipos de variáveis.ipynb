{
 "cells": [
  {
   "cell_type": "markdown",
   "metadata": {},
   "source": [
    "Tipos de conversão de strings"
   ]
  },
  {
   "cell_type": "code",
   "execution_count": 19,
   "metadata": {
    "collapsed": false
   },
   "outputs": [
    {
     "name": "stdout",
     "output_type": "stream",
     "text": [
      "hello world\n",
      "HELLO WORLD\n",
      "Hello world\n",
      "Hello World\n",
      "hELLO wORLD\n",
      "Hello World\n",
      "H\n"
     ]
    }
   ],
   "source": [
    "v = \"Hello World\"\n",
    "\n",
    "print (v.lower())\n",
    "print (v.upper())\n",
    "print (v.capitalize())\n",
    "print (v.title()) \n",
    "print (v.swapcase())\n",
    "print (v.strip())\n",
    "print (v[0])"
   ]
  },
  {
   "cell_type": "markdown",
   "metadata": {},
   "source": [
    "Formatando datas"
   ]
  },
  {
   "cell_type": "code",
   "execution_count": 7,
   "metadata": {
    "collapsed": false
   },
   "outputs": [
    {
     "name": "stdout",
     "output_type": "stream",
     "text": [
      "['11', '03', '1985']\n",
      "11\n",
      "03\n",
      "1985\n"
     ]
    }
   ],
   "source": [
    "data = \"11/03/1985\"\n",
    "dataSplit = data.split('/')\n",
    "print (dataSplit)\n",
    "print (dataSplit[0])\n",
    "print (dataSplit[1])\n",
    "print (dataSplit[2])"
   ]
  },
  {
   "cell_type": "markdown",
   "metadata": {},
   "source": [
    "IF ELSE ELIF FOR"
   ]
  },
  {
   "cell_type": "code",
   "execution_count": 14,
   "metadata": {
    "collapsed": false
   },
   "outputs": [
    {
     "name": "stdout",
     "output_type": "stream",
     "text": [
      "menor\n",
      "10\n",
      "20\n",
      "30\n"
     ]
    }
   ],
   "source": [
    "import random\n",
    "\n",
    "x = random.randint(-10,10)\n",
    "if x > 2:\n",
    "    print (\"sim\")\n",
    "elif x == 2:\n",
    "    print (\"igual\")\n",
    "else:\n",
    "    print (\"menor\")\n",
    "\n",
    "a = [10,20,30]\n",
    "\n",
    "for i in range(0, len(a)):\n",
    "    print (a[i])\n"
   ]
  },
  {
   "cell_type": "markdown",
   "metadata": {
    "collapsed": true
   },
   "source": [
    "FUNÇÕES "
   ]
  },
  {
   "cell_type": "code",
   "execution_count": 15,
   "metadata": {
    "collapsed": false
   },
   "outputs": [
    {
     "data": {
      "text/plain": [
       "'RONALDO'"
      ]
     },
     "execution_count": 15,
     "metadata": {},
     "output_type": "execute_result"
    }
   ],
   "source": [
    "def meuNomeM(n):\n",
    "    return n.upper()\n",
    "\n",
    "meuNomeM(\"ronaldo\")"
   ]
  },
  {
   "cell_type": "code",
   "execution_count": null,
   "metadata": {
    "collapsed": true
   },
   "outputs": [],
   "source": []
  }
 ],
 "metadata": {
  "kernelspec": {
   "display_name": "Python 3",
   "language": "python",
   "name": "python3"
  },
  "language_info": {
   "codemirror_mode": {
    "name": "ipython",
    "version": 3
   },
   "file_extension": ".py",
   "mimetype": "text/x-python",
   "name": "python",
   "nbconvert_exporter": "python",
   "pygments_lexer": "ipython3",
   "version": "3.5.0"
  }
 },
 "nbformat": 4,
 "nbformat_minor": 0
}
