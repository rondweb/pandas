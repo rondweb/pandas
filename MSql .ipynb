{
 "cells": [
  {
   "cell_type": "code",
   "execution_count": 1,
   "metadata": {
    "collapsed": false
   },
   "outputs": [
    {
     "ename": "ImportError",
     "evalue": "libodbc.so.2: cannot open shared object file: No such file or directory",
     "output_type": "error",
     "traceback": [
      "\u001b[1;31m---------------------------------------------------------------------------\u001b[0m",
      "\u001b[1;31mImportError\u001b[0m                               Traceback (most recent call last)",
      "\u001b[1;32m<ipython-input-1-2f97267cfcaf>\u001b[0m in \u001b[0;36m<module>\u001b[1;34m()\u001b[0m\n\u001b[0;32m      1\u001b[0m \u001b[1;32mimport\u001b[0m \u001b[0mpandas\u001b[0m\u001b[1;33m.\u001b[0m\u001b[0mio\u001b[0m\u001b[1;33m.\u001b[0m\u001b[0msql\u001b[0m\u001b[1;33m\u001b[0m\u001b[0m\n\u001b[1;32m----> 2\u001b[1;33m \u001b[1;32mimport\u001b[0m \u001b[0mpyodbc\u001b[0m\u001b[1;33m\u001b[0m\u001b[0m\n\u001b[0m",
      "\u001b[1;31mImportError\u001b[0m: libodbc.so.2: cannot open shared object file: No such file or directory"
     ]
    }
   ],
   "source": [
    "import pandas.io.sql\n",
    "import pyodbc"
   ]
  },
  {
   "cell_type": "code",
   "execution_count": 2,
   "metadata": {
    "collapsed": false
   },
   "outputs": [
    {
     "ename": "NameError",
     "evalue": "name 'pyodbc' is not defined",
     "output_type": "error",
     "traceback": [
      "\u001b[1;31m---------------------------------------------------------------------------\u001b[0m",
      "\u001b[1;31mNameError\u001b[0m                                 Traceback (most recent call last)",
      "\u001b[1;32m<ipython-input-2-bf04e3a51ef3>\u001b[0m in \u001b[0;36m<module>\u001b[1;34m()\u001b[0m\n\u001b[0;32m      4\u001b[0m \u001b[1;33m\u001b[0m\u001b[0m\n\u001b[0;32m      5\u001b[0m \u001b[1;31m# Create the connection\u001b[0m\u001b[1;33m\u001b[0m\u001b[1;33m\u001b[0m\u001b[0m\n\u001b[1;32m----> 6\u001b[1;33m \u001b[0mconn\u001b[0m \u001b[1;33m=\u001b[0m \u001b[0mpyodbc\u001b[0m\u001b[1;33m.\u001b[0m\u001b[0mconnect\u001b[0m\u001b[1;33m(\u001b[0m\u001b[1;34m'DRIVER={SQL Server};SERVER='\u001b[0m \u001b[1;33m+\u001b[0m \u001b[0mserver\u001b[0m \u001b[1;33m+\u001b[0m \u001b[1;34m';DATABASE='\u001b[0m \u001b[1;33m+\u001b[0m \u001b[0mdb\u001b[0m \u001b[1;33m+\u001b[0m \u001b[1;34m';UID=callcenter;PWD=!C1a2l3#;TDS_Version=7.2;PORT=1433;'\u001b[0m\u001b[1;33m)\u001b[0m\u001b[1;33m\u001b[0m\u001b[0m\n\u001b[0m\u001b[0;32m      7\u001b[0m \u001b[1;33m\u001b[0m\u001b[0m\n\u001b[0;32m      8\u001b[0m \u001b[1;31m# query db\u001b[0m\u001b[1;33m\u001b[0m\u001b[1;33m\u001b[0m\u001b[0m\n",
      "\u001b[1;31mNameError\u001b[0m: name 'pyodbc' is not defined"
     ]
    }
   ],
   "source": [
    "#Parameters\n",
    "server = ''\n",
    "db = 'unitau'\n",
    "\n",
    "# Create the connection\n",
    "conn = pyodbc.connect('DRIVER={SQL Server};SERVER=' + server + ';DATABASE=' + db + ';UID=;TDS_Version=7.2;PORT=1433;')\n",
    "\n",
    "# query db\n",
    "sql = \"\"\"\n",
    "\n",
    "select * from votomunzona\n",
    "\n",
    "\"\"\"\n",
    "df = pandas.io.sql.read_sql(sql, conn)\n",
    "df.head()"
   ]
  },
  {
   "cell_type": "code",
   "execution_count": 2,
   "metadata": {
    "collapsed": false
   },
   "outputs": [],
   "source": [
    "from sqlalchemy import create_engine\n",
    "import pandas as pd\n",
    "engine = create_engine('postgresql://')"
   ]
  },
  {
   "cell_type": "code",
   "execution_count": 7,
   "metadata": {
    "collapsed": false
   },
   "outputs": [],
   "source": [
    "df = pd.read_sql_query('select * from usuarios',con=engine)"
   ]
  },
  {
   "cell_type": "code",
   "execution_count": 8,
   "metadata": {
    "collapsed": false,
    "scrolled": true
   },
   "outputs": [
    {
     "data": {
      "text/html": [
       "<div>\n",
       "<table border=\"1\" class=\"dataframe\">\n",
       "  <thead>\n",
       "    <tr style=\"text-align: right;\">\n",
       "      <th></th>\n",
       "      <th>id</th>\n",
       "      <th>nome</th>\n",
       "      <th>instituicao</th>\n",
       "      <th>email</th>\n",
       "      <th>password</th>\n",
       "      <th>fogograma_lat_lng</th>\n",
       "      <th>mapext</th>\n",
       "      <th>ip</th>\n",
       "      <th>idioma</th>\n",
       "      <th>frequencia_envio</th>\n",
       "      <th>enviar_mesmo_sem_focos</th>\n",
       "      <th>remember_token</th>\n",
       "      <th>created_at</th>\n",
       "      <th>updated_at</th>\n",
       "      <th>deleted_at</th>\n",
       "    </tr>\n",
       "  </thead>\n",
       "  <tbody>\n",
       "    <tr>\n",
       "      <th>0</th>\n",
       "      <td>1</td>\n",
       "      <td>0800ambiente 0800ambiente</td>\n",
       "      <td>Mppa</td>\n",
       "      <td>0800ambiente@gmail.com</td>\n",
       "      <td>$2y$10$XZAdkATXfGHy3ugsrs3tNOHCs2b7YY65jgAG7Fb...</td>\n",
       "      <td>None</td>\n",
       "      <td>=-74.3257142857143+-0.015812135568520652+-58.1...</td>\n",
       "      <td>200.11.192.104</td>\n",
       "      <td>None</td>\n",
       "      <td>6</td>\n",
       "      <td>True</td>\n",
       "      <td>None</td>\n",
       "      <td>2011-08-11 00:55:00</td>\n",
       "      <td>2016-01-06 10:57:04</td>\n",
       "      <td>None</td>\n",
       "    </tr>\n",
       "    <tr>\n",
       "      <th>1</th>\n",
       "      <td>2</td>\n",
       "      <td>0800ambiente Vigilancia Y Control</td>\n",
       "      <td>Marn</td>\n",
       "      <td>ambiente0800@hotmail.com</td>\n",
       "      <td>$2y$10$At/S38cZcy8PJevaCliQGeriAZ9t6CzhgLM9OIc...</td>\n",
       "      <td>None</td>\n",
       "      <td>=-82.13+-44+-30.44+12.5</td>\n",
       "      <td>200.11.192.40</td>\n",
       "      <td>None</td>\n",
       "      <td>6</td>\n",
       "      <td>True</td>\n",
       "      <td>None</td>\n",
       "      <td>2006-04-28 23:23:00</td>\n",
       "      <td>2016-01-06 10:57:04</td>\n",
       "      <td>None</td>\n",
       "    </tr>\n",
       "    <tr>\n",
       "      <th>2</th>\n",
       "      <td>4</td>\n",
       "      <td>2º Bbm 2 Batalhão De Bombeiros Militar</td>\n",
       "      <td>Corpo De Bombeiros Militar Do Maranhão</td>\n",
       "      <td>2gbmmaranhao@gmail.com</td>\n",
       "      <td>$2y$10$5pKrcFLc9LeGl1cogcVhz.4LgVqUZ2at1FkwilH...</td>\n",
       "      <td>None</td>\n",
       "      <td>=-82.13+-44+-30.44+12.5</td>\n",
       "      <td>177195249197</td>\n",
       "      <td>None</td>\n",
       "      <td>6</td>\n",
       "      <td>True</td>\n",
       "      <td>None</td>\n",
       "      <td>2015-08-18 12:21:00</td>\n",
       "      <td>2016-01-06 10:57:04</td>\n",
       "      <td>None</td>\n",
       "    </tr>\n",
       "    <tr>\n",
       "      <th>3</th>\n",
       "      <td>5</td>\n",
       "      <td>2º Ten Arlindo</td>\n",
       "      <td>Corpo De Bombeiros Militar Do Maranhão</td>\n",
       "      <td>arlindo_bizu@hotmail.com</td>\n",
       "      <td>$2y$10$b.L7QjNQRDcWbS1O/spqGuX/KFQkNpWyKevut9r...</td>\n",
       "      <td>None</td>\n",
       "      <td>=-82.13+-44+-30.44+12.5</td>\n",
       "      <td>179234146227</td>\n",
       "      <td>None</td>\n",
       "      <td>6</td>\n",
       "      <td>True</td>\n",
       "      <td>None</td>\n",
       "      <td>2013-09-16 23:12:00</td>\n",
       "      <td>2016-01-06 10:57:04</td>\n",
       "      <td>None</td>\n",
       "    </tr>\n",
       "    <tr>\n",
       "      <th>4</th>\n",
       "      <td>6</td>\n",
       "      <td>5ª Cia Pm Ind Mat</td>\n",
       "      <td>5ª Cia Pm Ind Mat</td>\n",
       "      <td>5ciaindmat-secplanoperacoes@pmmg.mg.gov.br</td>\n",
       "      <td>$2y$10$bLB1m295oYXlv.Q7F3wp/.2R5VGcIiF.biJLm3A...</td>\n",
       "      <td>None</td>\n",
       "      <td>=-82.13+-44+-30.44+12.5</td>\n",
       "      <td>200.198.3.120</td>\n",
       "      <td>None</td>\n",
       "      <td>6</td>\n",
       "      <td>True</td>\n",
       "      <td>None</td>\n",
       "      <td>2009-10-09 19:27:00</td>\n",
       "      <td>2016-01-06 10:57:04</td>\n",
       "      <td>None</td>\n",
       "    </tr>\n",
       "  </tbody>\n",
       "</table>\n",
       "</div>"
      ],
      "text/plain": [
       "   id                                    nome  \\\n",
       "0   1               0800ambiente 0800ambiente   \n",
       "1   2       0800ambiente Vigilancia Y Control   \n",
       "2   4  2º Bbm 2 Batalhão De Bombeiros Militar   \n",
       "3   5                          2º Ten Arlindo   \n",
       "4   6                      5ª Cia Pm Ind Mat    \n",
       "\n",
       "                              instituicao  \\\n",
       "0                                    Mppa   \n",
       "1                                    Marn   \n",
       "2  Corpo De Bombeiros Militar Do Maranhão   \n",
       "3  Corpo De Bombeiros Militar Do Maranhão   \n",
       "4                       5ª Cia Pm Ind Mat   \n",
       "\n",
       "                                        email  \\\n",
       "0                      0800ambiente@gmail.com   \n",
       "1                    ambiente0800@hotmail.com   \n",
       "2                      2gbmmaranhao@gmail.com   \n",
       "3                    arlindo_bizu@hotmail.com   \n",
       "4  5ciaindmat-secplanoperacoes@pmmg.mg.gov.br   \n",
       "\n",
       "                                            password fogograma_lat_lng  \\\n",
       "0  $2y$10$XZAdkATXfGHy3ugsrs3tNOHCs2b7YY65jgAG7Fb...              None   \n",
       "1  $2y$10$At/S38cZcy8PJevaCliQGeriAZ9t6CzhgLM9OIc...              None   \n",
       "2  $2y$10$5pKrcFLc9LeGl1cogcVhz.4LgVqUZ2at1FkwilH...              None   \n",
       "3  $2y$10$b.L7QjNQRDcWbS1O/spqGuX/KFQkNpWyKevut9r...              None   \n",
       "4  $2y$10$bLB1m295oYXlv.Q7F3wp/.2R5VGcIiF.biJLm3A...              None   \n",
       "\n",
       "                                              mapext              ip idioma  \\\n",
       "0  =-74.3257142857143+-0.015812135568520652+-58.1...  200.11.192.104   None   \n",
       "1                            =-82.13+-44+-30.44+12.5   200.11.192.40   None   \n",
       "2                            =-82.13+-44+-30.44+12.5    177195249197   None   \n",
       "3                            =-82.13+-44+-30.44+12.5    179234146227   None   \n",
       "4                            =-82.13+-44+-30.44+12.5   200.198.3.120   None   \n",
       "\n",
       "   frequencia_envio enviar_mesmo_sem_focos remember_token          created_at  \\\n",
       "0                 6                   True           None 2011-08-11 00:55:00   \n",
       "1                 6                   True           None 2006-04-28 23:23:00   \n",
       "2                 6                   True           None 2015-08-18 12:21:00   \n",
       "3                 6                   True           None 2013-09-16 23:12:00   \n",
       "4                 6                   True           None 2009-10-09 19:27:00   \n",
       "\n",
       "           updated_at deleted_at  \n",
       "0 2016-01-06 10:57:04       None  \n",
       "1 2016-01-06 10:57:04       None  \n",
       "2 2016-01-06 10:57:04       None  \n",
       "3 2016-01-06 10:57:04       None  \n",
       "4 2016-01-06 10:57:04       None  "
      ]
     },
     "execution_count": 8,
     "metadata": {},
     "output_type": "execute_result"
    }
   ],
   "source": [
    "df[:5]"
   ]
  },
  {
   "cell_type": "code",
   "execution_count": 34,
   "metadata": {
    "collapsed": false
   },
   "outputs": [],
   "source": [
    "df = pd.read_csv('/home/rondweb/anaconda3/pandas/votacao_partido_munzona_2010_AL.txt', sep=\";\", usecols=[\"QTDE_VOTOS\", \"PARTIDO\"])"
   ]
  },
  {
   "cell_type": "code",
   "execution_count": 39,
   "metadata": {
    "collapsed": false
   },
   "outputs": [],
   "source": [
    "df_treat = df['PARTIDO'].describe()"
   ]
  },
  {
   "cell_type": "code",
   "execution_count": 40,
   "metadata": {
    "collapsed": false
   },
   "outputs": [
    {
     "data": {
      "text/plain": [
       "count     6491\n",
       "unique      25\n",
       "top        PTB\n",
       "freq       424\n",
       "Name: PARTIDO, dtype: object"
      ]
     },
     "execution_count": 40,
     "metadata": {},
     "output_type": "execute_result"
    }
   ],
   "source": [
    "df_treat"
   ]
  },
  {
   "cell_type": "code",
   "execution_count": 61,
   "metadata": {
    "collapsed": false
   },
   "outputs": [
    {
     "data": {
      "text/plain": [
       "PARTIDO\n",
       "PTC            689\n",
       "PSDC           942\n",
       "PRP           1073\n",
       "PHS           3433\n",
       "PCB           8954\n",
       "PSL          16398\n",
       "PV           16894\n",
       "PRB          27106\n",
       "PTN          36379\n",
       "PSC          57382\n",
       "PR           59171\n",
       "PMN         110503\n",
       "DEM         112315\n",
       "PRTB        117194\n",
       "PSB         144888\n",
       "PC do B     148860\n",
       "PT do B     202768\n",
       "PT          207561\n",
       "PPS         208549\n",
       "PSOL        460192\n",
       "PDT         522768\n",
       "PTB         818727\n",
       "PP          996707\n",
       "PSDB       1018461\n",
       "PMDB       1178415\n",
       "Name: QTDE_VOTOS, dtype: int64"
      ]
     },
     "execution_count": 61,
     "metadata": {},
     "output_type": "execute_result"
    }
   ],
   "source": [
    "df2 = df.groupby(['PARTIDO'])['QTDE_VOTOS'].sum()\n",
    "df2.sort_values()"
   ]
  },
  {
   "cell_type": "code",
   "execution_count": 64,
   "metadata": {
    "collapsed": false
   },
   "outputs": [
    {
     "data": {
      "text/plain": [
       "6476329"
      ]
     },
     "execution_count": 64,
     "metadata": {},
     "output_type": "execute_result"
    }
   ],
   "source": [
    "df['QTDE_VOTOS'].sum()"
   ]
  },
  {
   "cell_type": "code",
   "execution_count": null,
   "metadata": {
    "collapsed": true
   },
   "outputs": [],
   "source": []
  }
 ],
 "metadata": {
  "kernelspec": {
   "display_name": "Python 3",
   "language": "python",
   "name": "python3"
  },
  "language_info": {
   "codemirror_mode": {
    "name": "ipython",
    "version": 3
   },
   "file_extension": ".py",
   "mimetype": "text/x-python",
   "name": "python",
   "nbconvert_exporter": "python",
   "pygments_lexer": "ipython3",
   "version": "3.5.1"
  }
 },
 "nbformat": 4,
 "nbformat_minor": 0
}
