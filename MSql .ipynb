{
 "cells": [
  {
   "cell_type": "code",
   "execution_count": 15,
   "metadata": {
    "collapsed": false
   },
   "outputs": [],
   "source": [
    "from sqlalchemy import create_engine\n",
    "import pandas as pd\n",
    "#engine = create_engine('postgresql://')"
   ]
  },
  {
   "cell_type": "code",
   "execution_count": 113,
   "metadata": {
    "collapsed": false
   },
   "outputs": [],
   "source": [
    "df = pd.read_csv('/home/ronaldo/anaconda3/pandas/votos/votacao_partido_munzona_2010_TO.txt', sep=\";\", usecols=[\"QTDE_VOTOS\", \"PARTIDO\"])"
   ]
  },
  {
   "cell_type": "code",
   "execution_count": 114,
   "metadata": {
    "collapsed": false
   },
   "outputs": [
    {
     "data": {
      "text/plain": [
       "PARTIDO\n",
       "PTN           683\n",
       "PSDC         2089\n",
       "PT do B      2275\n",
       "PTC          2320\n",
       "PRTB         2576\n",
       "PMN          2933\n",
       "PSL          3016\n",
       "PHS          3161\n",
       "PRP          6275\n",
       "PC do B      7377\n",
       "PRB         12144\n",
       "PSC         22744\n",
       "PTB         28506\n",
       "PV          30015\n",
       "PDT         54244\n",
       "PP          58057\n",
       "PSB         83646\n",
       "PPS        112067\n",
       "DEM        140549\n",
       "PT         417947\n",
       "PSDB       445527\n",
       "PMDB       658217\n",
       "PR         931206\n",
       "Name: QTDE_VOTOS, dtype: int64"
      ]
     },
     "execution_count": 114,
     "metadata": {},
     "output_type": "execute_result"
    }
   ],
   "source": [
    "df2 = df.groupby(['PARTIDO'])['QTDE_VOTOS'].sum()\n",
    "df2.sort_values()\n"
   ]
  },
  {
   "cell_type": "code",
   "execution_count": 115,
   "metadata": {
    "collapsed": false
   },
   "outputs": [],
   "source": [
    "df2.to_csv('/home/ronaldo/anaconda3/pandas/votos_compilados/TO.csv', sep=';', encoding='utf-8')"
   ]
  },
  {
   "cell_type": "code",
   "execution_count": null,
   "metadata": {
    "collapsed": true
   },
   "outputs": [],
   "source": []
  }
 ],
 "metadata": {
  "kernelspec": {
   "display_name": "Python 3",
   "language": "python",
   "name": "python3"
  },
  "language_info": {
   "codemirror_mode": {
    "name": "ipython",
    "version": 3
   },
   "file_extension": ".py",
   "mimetype": "text/x-python",
   "name": "python",
   "nbconvert_exporter": "python",
   "pygments_lexer": "ipython3",
   "version": "3.5.0"
  }
 },
 "nbformat": 4,
 "nbformat_minor": 0
}
